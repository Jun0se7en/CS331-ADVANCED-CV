{
 "cells": [
  {
   "cell_type": "markdown",
   "id": "5d198519",
   "metadata": {
    "id": "X8fcboujXcro",
    "papermill": {
     "duration": 0.022544,
     "end_time": "2023-12-19T17:31:38.224741",
     "exception": false,
     "start_time": "2023-12-19T17:31:38.202197",
     "status": "completed"
    },
    "tags": []
   },
   "source": [
    "# **INSTALL AND IMPORT NECESSARY PACKAGES**"
   ]
  },
  {
   "cell_type": "code",
   "execution_count": 1,
   "id": "12b47019",
   "metadata": {
    "execution": {
     "iopub.execute_input": "2023-12-19T17:31:38.274425Z",
     "iopub.status.busy": "2023-12-19T17:31:38.273585Z",
     "iopub.status.idle": "2023-12-19T17:32:54.097721Z",
     "shell.execute_reply": "2023-12-19T17:32:54.096483Z"
    },
    "id": "xOoTEginijbC",
    "outputId": "698c4d04-513a-4621-8fc0-0d283e51d019",
    "papermill": {
     "duration": 75.851766,
     "end_time": "2023-12-19T17:32:54.100491",
     "exception": false,
     "start_time": "2023-12-19T17:31:38.248725",
     "status": "completed"
    },
    "tags": []
   },
   "outputs": [
    {
     "name": "stdout",
     "output_type": "stream",
     "text": [
      "Collecting faiss-gpu\r\n",
      "  Downloading faiss_gpu-1.7.2-cp310-cp310-manylinux_2_17_x86_64.manylinux2014_x86_64.whl (85.5 MB)\r\n",
      "\u001b[2K     \u001b[90m━━━━━━━━━━━━━━━━━━━━━━━━━━━━━━━━━━━━━━━━\u001b[0m \u001b[32m85.5/85.5 MB\u001b[0m \u001b[31m11.5 MB/s\u001b[0m eta \u001b[36m0:00:00\u001b[0m\r\n",
      "\u001b[?25hInstalling collected packages: faiss-gpu\r\n",
      "Successfully installed faiss-gpu-1.7.2\r\n",
      "Collecting ultralytics\r\n",
      "  Obtaining dependency information for ultralytics from https://files.pythonhosted.org/packages/f4/79/b192c64e13eefc7f8543a10080767ab057850fa9bdbc38e7c261a3432c93/ultralytics-8.0.227-py3-none-any.whl.metadata\r\n",
      "  Downloading ultralytics-8.0.227-py3-none-any.whl.metadata (32 kB)\r\n",
      "Requirement already satisfied: matplotlib>=3.3.0 in /opt/conda/lib/python3.10/site-packages (from ultralytics) (3.7.3)\r\n",
      "Requirement already satisfied: numpy>=1.22.2 in /opt/conda/lib/python3.10/site-packages (from ultralytics) (1.24.3)\r\n",
      "Requirement already satisfied: opencv-python>=4.6.0 in /opt/conda/lib/python3.10/site-packages (from ultralytics) (4.8.1.78)\r\n",
      "Requirement already satisfied: pillow>=7.1.2 in /opt/conda/lib/python3.10/site-packages (from ultralytics) (10.1.0)\r\n",
      "Requirement already satisfied: pyyaml>=5.3.1 in /opt/conda/lib/python3.10/site-packages (from ultralytics) (6.0.1)\r\n",
      "Requirement already satisfied: requests>=2.23.0 in /opt/conda/lib/python3.10/site-packages (from ultralytics) (2.31.0)\r\n",
      "Requirement already satisfied: scipy>=1.4.1 in /opt/conda/lib/python3.10/site-packages (from ultralytics) (1.11.3)\r\n",
      "Requirement already satisfied: torch>=1.8.0 in /opt/conda/lib/python3.10/site-packages (from ultralytics) (2.0.0+cpu)\r\n",
      "Requirement already satisfied: torchvision>=0.9.0 in /opt/conda/lib/python3.10/site-packages (from ultralytics) (0.15.1+cpu)\r\n",
      "Requirement already satisfied: tqdm>=4.64.0 in /opt/conda/lib/python3.10/site-packages (from ultralytics) (4.66.1)\r\n",
      "Requirement already satisfied: pandas>=1.1.4 in /opt/conda/lib/python3.10/site-packages (from ultralytics) (2.0.3)\r\n",
      "Requirement already satisfied: seaborn>=0.11.0 in /opt/conda/lib/python3.10/site-packages (from ultralytics) (0.12.2)\r\n",
      "Requirement already satisfied: psutil in /opt/conda/lib/python3.10/site-packages (from ultralytics) (5.9.3)\r\n",
      "Requirement already satisfied: py-cpuinfo in /opt/conda/lib/python3.10/site-packages (from ultralytics) (9.0.0)\r\n",
      "Collecting thop>=0.1.1 (from ultralytics)\r\n",
      "  Downloading thop-0.1.1.post2209072238-py3-none-any.whl (15 kB)\r\n",
      "Requirement already satisfied: contourpy>=1.0.1 in /opt/conda/lib/python3.10/site-packages (from matplotlib>=3.3.0->ultralytics) (1.1.0)\r\n",
      "Requirement already satisfied: cycler>=0.10 in /opt/conda/lib/python3.10/site-packages (from matplotlib>=3.3.0->ultralytics) (0.11.0)\r\n",
      "Requirement already satisfied: fonttools>=4.22.0 in /opt/conda/lib/python3.10/site-packages (from matplotlib>=3.3.0->ultralytics) (4.42.1)\r\n",
      "Requirement already satisfied: kiwisolver>=1.0.1 in /opt/conda/lib/python3.10/site-packages (from matplotlib>=3.3.0->ultralytics) (1.4.4)\r\n",
      "Requirement already satisfied: packaging>=20.0 in /opt/conda/lib/python3.10/site-packages (from matplotlib>=3.3.0->ultralytics) (21.3)\r\n",
      "Requirement already satisfied: pyparsing>=2.3.1 in /opt/conda/lib/python3.10/site-packages (from matplotlib>=3.3.0->ultralytics) (3.0.9)\r\n",
      "Requirement already satisfied: python-dateutil>=2.7 in /opt/conda/lib/python3.10/site-packages (from matplotlib>=3.3.0->ultralytics) (2.8.2)\r\n",
      "Requirement already satisfied: pytz>=2020.1 in /opt/conda/lib/python3.10/site-packages (from pandas>=1.1.4->ultralytics) (2023.3)\r\n",
      "Requirement already satisfied: tzdata>=2022.1 in /opt/conda/lib/python3.10/site-packages (from pandas>=1.1.4->ultralytics) (2023.3)\r\n",
      "Requirement already satisfied: charset-normalizer<4,>=2 in /opt/conda/lib/python3.10/site-packages (from requests>=2.23.0->ultralytics) (3.2.0)\r\n",
      "Requirement already satisfied: idna<4,>=2.5 in /opt/conda/lib/python3.10/site-packages (from requests>=2.23.0->ultralytics) (3.4)\r\n",
      "Requirement already satisfied: urllib3<3,>=1.21.1 in /opt/conda/lib/python3.10/site-packages (from requests>=2.23.0->ultralytics) (1.26.15)\r\n",
      "Requirement already satisfied: certifi>=2017.4.17 in /opt/conda/lib/python3.10/site-packages (from requests>=2.23.0->ultralytics) (2023.7.22)\r\n",
      "Requirement already satisfied: filelock in /opt/conda/lib/python3.10/site-packages (from torch>=1.8.0->ultralytics) (3.12.2)\r\n",
      "Requirement already satisfied: typing-extensions in /opt/conda/lib/python3.10/site-packages (from torch>=1.8.0->ultralytics) (4.5.0)\r\n",
      "Requirement already satisfied: sympy in /opt/conda/lib/python3.10/site-packages (from torch>=1.8.0->ultralytics) (1.12)\r\n",
      "Requirement already satisfied: networkx in /opt/conda/lib/python3.10/site-packages (from torch>=1.8.0->ultralytics) (3.1)\r\n",
      "Requirement already satisfied: jinja2 in /opt/conda/lib/python3.10/site-packages (from torch>=1.8.0->ultralytics) (3.1.2)\r\n",
      "Requirement already satisfied: six>=1.5 in /opt/conda/lib/python3.10/site-packages (from python-dateutil>=2.7->matplotlib>=3.3.0->ultralytics) (1.16.0)\r\n",
      "Requirement already satisfied: MarkupSafe>=2.0 in /opt/conda/lib/python3.10/site-packages (from jinja2->torch>=1.8.0->ultralytics) (2.1.3)\r\n",
      "Requirement already satisfied: mpmath>=0.19 in /opt/conda/lib/python3.10/site-packages (from sympy->torch>=1.8.0->ultralytics) (1.3.0)\r\n",
      "Downloading ultralytics-8.0.227-py3-none-any.whl (660 kB)\r\n",
      "\u001b[2K   \u001b[90m━━━━━━━━━━━━━━━━━━━━━━━━━━━━━━━━━━━━━━━━\u001b[0m \u001b[32m660.5/660.5 kB\u001b[0m \u001b[31m21.5 MB/s\u001b[0m eta \u001b[36m0:00:00\u001b[0m\r\n",
      "\u001b[?25hInstalling collected packages: thop, ultralytics\r\n",
      "Successfully installed thop-0.1.1.post2209072238 ultralytics-8.0.227\r\n",
      "Requirement already satisfied: transformers in /opt/conda/lib/python3.10/site-packages (4.35.0)\r\n",
      "Requirement already satisfied: filelock in /opt/conda/lib/python3.10/site-packages (from transformers) (3.12.2)\r\n",
      "Requirement already satisfied: huggingface-hub<1.0,>=0.16.4 in /opt/conda/lib/python3.10/site-packages (from transformers) (0.17.3)\r\n",
      "Requirement already satisfied: numpy>=1.17 in /opt/conda/lib/python3.10/site-packages (from transformers) (1.24.3)\r\n",
      "Requirement already satisfied: packaging>=20.0 in /opt/conda/lib/python3.10/site-packages (from transformers) (21.3)\r\n",
      "Requirement already satisfied: pyyaml>=5.1 in /opt/conda/lib/python3.10/site-packages (from transformers) (6.0.1)\r\n",
      "Requirement already satisfied: regex!=2019.12.17 in /opt/conda/lib/python3.10/site-packages (from transformers) (2023.8.8)\r\n",
      "Requirement already satisfied: requests in /opt/conda/lib/python3.10/site-packages (from transformers) (2.31.0)\r\n",
      "Requirement already satisfied: tokenizers<0.15,>=0.14 in /opt/conda/lib/python3.10/site-packages (from transformers) (0.14.1)\r\n",
      "Requirement already satisfied: safetensors>=0.3.1 in /opt/conda/lib/python3.10/site-packages (from transformers) (0.4.0)\r\n",
      "Requirement already satisfied: tqdm>=4.27 in /opt/conda/lib/python3.10/site-packages (from transformers) (4.66.1)\r\n",
      "Requirement already satisfied: fsspec in /opt/conda/lib/python3.10/site-packages (from huggingface-hub<1.0,>=0.16.4->transformers) (2023.10.0)\r\n",
      "Requirement already satisfied: typing-extensions>=3.7.4.3 in /opt/conda/lib/python3.10/site-packages (from huggingface-hub<1.0,>=0.16.4->transformers) (4.5.0)\r\n",
      "Requirement already satisfied: pyparsing!=3.0.5,>=2.0.2 in /opt/conda/lib/python3.10/site-packages (from packaging>=20.0->transformers) (3.0.9)\r\n",
      "Requirement already satisfied: charset-normalizer<4,>=2 in /opt/conda/lib/python3.10/site-packages (from requests->transformers) (3.2.0)\r\n",
      "Requirement already satisfied: idna<4,>=2.5 in /opt/conda/lib/python3.10/site-packages (from requests->transformers) (3.4)\r\n",
      "Requirement already satisfied: urllib3<3,>=1.21.1 in /opt/conda/lib/python3.10/site-packages (from requests->transformers) (1.26.15)\r\n",
      "Requirement already satisfied: certifi>=2017.4.17 in /opt/conda/lib/python3.10/site-packages (from requests->transformers) (2023.7.22)\r\n",
      "Requirement already satisfied: joblib in /opt/conda/lib/python3.10/site-packages (1.3.2)\r\n",
      "Requirement already satisfied: opencv-python in /opt/conda/lib/python3.10/site-packages (4.8.1.78)\r\n",
      "Requirement already satisfied: numpy>=1.21.2 in /opt/conda/lib/python3.10/site-packages (from opencv-python) (1.24.3)\r\n"
     ]
    }
   ],
   "source": [
    "# !pip install pickle5\n",
    "# !pip install ImageHash\n",
    "!pip install --no-input faiss-gpu\n",
    "!pip install --no-input ultralytics\n",
    "!pip install --no-input transformers \n",
    "# !pip install scenedetect\n",
    "!pip install --no-input joblib\n",
    "!pip install --no-input opencv-python\n",
    "# !conda install opencv -y"
   ]
  },
  {
   "cell_type": "code",
   "execution_count": 2,
   "id": "312be1df",
   "metadata": {
    "execution": {
     "iopub.execute_input": "2023-12-19T17:32:54.157847Z",
     "iopub.status.busy": "2023-12-19T17:32:54.157371Z",
     "iopub.status.idle": "2023-12-19T17:33:16.010789Z",
     "shell.execute_reply": "2023-12-19T17:33:16.009674Z"
    },
    "id": "Tl5C8LCyiT-M",
    "outputId": "bd9fded9-1110-4d54-b2f3-1b46e49840f4",
    "papermill": {
     "duration": 21.886084,
     "end_time": "2023-12-19T17:33:16.014229",
     "exception": false,
     "start_time": "2023-12-19T17:32:54.128145",
     "status": "completed"
    },
    "tags": []
   },
   "outputs": [],
   "source": [
    "import time\n",
    "import faiss\n",
    "# import pickle\n",
    "import cv2 as cv\n",
    "# import imagehash\n",
    "from transformers import AutoImageProcessor, Dinov2Model\n",
    "from datasets import load_dataset\n",
    "from ultralytics.utils.plotting import Annotator\n",
    "from ultralytics import YOLO\n",
    "from PIL import Image\n",
    "# from numpy.linalg import norm\n",
    "# from google.colab.patches import cv2_imshow\n",
    "# from google.colab import drive\n",
    "# from scenedetect import detect, AdaptiveDetector, split_video_ffmpeg\n",
    "import os\n",
    "import torch\n",
    "import numpy as np\n",
    "import pandas as pd\n",
    "import tensorflow as tf\n",
    "import gc\n",
    "from joblib import load, dump\n",
    "import matplotlib.pyplot as plt\n",
    "# drive.mount('/content/drive')"
   ]
  },
  {
   "cell_type": "code",
   "execution_count": 3,
   "id": "6072af34",
   "metadata": {
    "execution": {
     "iopub.execute_input": "2023-12-19T17:33:16.072008Z",
     "iopub.status.busy": "2023-12-19T17:33:16.071241Z",
     "iopub.status.idle": "2023-12-19T17:33:16.076900Z",
     "shell.execute_reply": "2023-12-19T17:33:16.075799Z"
    },
    "id": "-FGqddqU6Op7",
    "papermill": {
     "duration": 0.036783,
     "end_time": "2023-12-19T17:33:16.079076",
     "exception": false,
     "start_time": "2023-12-19T17:33:16.042293",
     "status": "completed"
    },
    "tags": []
   },
   "outputs": [],
   "source": [
    "device = torch.device(\"cuda:0\" if torch.cuda.is_available() else \"cpu\")"
   ]
  },
  {
   "cell_type": "code",
   "execution_count": 4,
   "id": "05eee022",
   "metadata": {
    "execution": {
     "iopub.execute_input": "2023-12-19T17:33:16.136074Z",
     "iopub.status.busy": "2023-12-19T17:33:16.135677Z",
     "iopub.status.idle": "2023-12-19T17:33:17.549094Z",
     "shell.execute_reply": "2023-12-19T17:33:17.547821Z"
    },
    "id": "BS5Nodp5iF7o",
    "outputId": "2913a694-5ce1-4af3-cd12-84e99ae4f744",
    "papermill": {
     "duration": 1.445239,
     "end_time": "2023-12-19T17:33:17.552045",
     "exception": false,
     "start_time": "2023-12-19T17:33:16.106806",
     "status": "completed"
    },
    "tags": []
   },
   "outputs": [
    {
     "name": "stdout",
     "output_type": "stream",
     "text": [
      "Downloading https://github.com/ultralytics/assets/releases/download/v0.0.0/yolov8l.pt to 'yolov8l.pt'...\n"
     ]
    },
    {
     "name": "stderr",
     "output_type": "stream",
     "text": [
      "100%|██████████| 83.7M/83.7M [00:00<00:00, 225MB/s]\n"
     ]
    }
   ],
   "source": [
    "yolo_model = YOLO('yolov8l.pt')"
   ]
  },
  {
   "cell_type": "code",
   "execution_count": 5,
   "id": "9d091774",
   "metadata": {
    "execution": {
     "iopub.execute_input": "2023-12-19T17:33:17.612666Z",
     "iopub.status.busy": "2023-12-19T17:33:17.611591Z",
     "iopub.status.idle": "2023-12-19T17:33:17.619571Z",
     "shell.execute_reply": "2023-12-19T17:33:17.618673Z"
    },
    "id": "ZAYrGKU1hynH",
    "papermill": {
     "duration": 0.039943,
     "end_time": "2023-12-19T17:33:17.621875",
     "exception": false,
     "start_time": "2023-12-19T17:33:17.581932",
     "status": "completed"
    },
    "tags": []
   },
   "outputs": [],
   "source": [
    "def yolo_draw_bounding_boxes(image):\n",
    "    lst_of_persons = []\n",
    "    results = yolo_model.predict(image, verbose=False, conf=0.5)\n",
    "    for r in results:\n",
    "        boxes = r.boxes\n",
    "        for box in boxes:\n",
    "            b = box.xyxy[0]  # get box coordinates in (top, left, bottom, right) format\n",
    "            b = b.cpu().numpy().astype(int)\n",
    "            top, left, bottom, right = b\n",
    "            # print(f'bounding box: {b}')\n",
    "            c = box.cls\n",
    "            person_img = image[left:right, top:bottom]\n",
    "            label = yolo_model.names[int(c)]\n",
    "            if label == \"person\":\n",
    "                # label = yolo_model.names[int(c)]\n",
    "                # print(coordinates)\n",
    "                lst_of_persons.append(person_img)\n",
    "    return lst_of_persons"
   ]
  },
  {
   "cell_type": "markdown",
   "id": "aad16214",
   "metadata": {
    "id": "vFRzGXidXPZ1",
    "papermill": {
     "duration": 0.027941,
     "end_time": "2023-12-19T17:33:17.678131",
     "exception": false,
     "start_time": "2023-12-19T17:33:17.650190",
     "status": "completed"
    },
    "tags": []
   },
   "source": [
    "# **EXTARCT AND SAVE FEATURES TO FAISS DATABASE**"
   ]
  },
  {
   "cell_type": "code",
   "execution_count": 6,
   "id": "c5df2b7c",
   "metadata": {
    "execution": {
     "iopub.execute_input": "2023-12-19T17:33:17.737156Z",
     "iopub.status.busy": "2023-12-19T17:33:17.735900Z",
     "iopub.status.idle": "2023-12-19T17:33:39.570867Z",
     "shell.execute_reply": "2023-12-19T17:33:39.569828Z"
    },
    "id": "hMHj0lx3iF7p",
    "outputId": "1054eaba-248b-4f56-d724-2e222a9a5ef2",
    "papermill": {
     "duration": 21.86707,
     "end_time": "2023-12-19T17:33:39.573364",
     "exception": false,
     "start_time": "2023-12-19T17:33:17.706294",
     "status": "completed"
    },
    "tags": []
   },
   "outputs": [
    {
     "data": {
      "application/vnd.jupyter.widget-view+json": {
       "model_id": "356fa6e593fe4bcca80e8b5d110e2af4",
       "version_major": 2,
       "version_minor": 0
      },
      "text/plain": [
       "Downloading (…)rocessor_config.json:   0%|          | 0.00/436 [00:00<?, ?B/s]"
      ]
     },
     "metadata": {},
     "output_type": "display_data"
    },
    {
     "data": {
      "application/vnd.jupyter.widget-view+json": {
       "model_id": "4361a768a7a6446382bf822686e24ae2",
       "version_major": 2,
       "version_minor": 0
      },
      "text/plain": [
       "Downloading config.json:   0%|          | 0.00/547 [00:00<?, ?B/s]"
      ]
     },
     "metadata": {},
     "output_type": "display_data"
    },
    {
     "data": {
      "application/vnd.jupyter.widget-view+json": {
       "model_id": "f5ad34f4128f4d93b1c3b46983d52968",
       "version_major": 2,
       "version_minor": 0
      },
      "text/plain": [
       "Downloading model.safetensors:   0%|          | 0.00/88.2M [00:00<?, ?B/s]"
      ]
     },
     "metadata": {},
     "output_type": "display_data"
    }
   ],
   "source": [
    "image_processor = AutoImageProcessor.from_pretrained(\"facebook/dinov2-small\")\n",
    "dino = Dinov2Model.from_pretrained(\"facebook/dinov2-small\")"
   ]
  },
  {
   "cell_type": "code",
   "execution_count": 7,
   "id": "ac0a0fd0",
   "metadata": {
    "execution": {
     "iopub.execute_input": "2023-12-19T17:33:39.635287Z",
     "iopub.status.busy": "2023-12-19T17:33:39.634413Z",
     "iopub.status.idle": "2023-12-19T17:33:39.639804Z",
     "shell.execute_reply": "2023-12-19T17:33:39.638645Z"
    },
    "id": "ofsdGQjIiF7p",
    "papermill": {
     "duration": 0.040024,
     "end_time": "2023-12-19T17:33:39.642216",
     "exception": false,
     "start_time": "2023-12-19T17:33:39.602192",
     "status": "completed"
    },
    "tags": []
   },
   "outputs": [],
   "source": [
    "# data_folder = \"/content/drive/MyDrive/Colab Notebooks/DINOv2_ArcFace/TRECVID_MSUM_2022\"\n",
    "# kiya_path = \"/content/drive/MyDrive/Colab Notebooks/DINOv2_ArcFace/TRECVID_MSUM_2022/query/like_me/Kiya\"\n",
    "# movie_path = \"../input/movie-frames-2/Calloused_Hands/Calloused_Hands\"\n",
    "# frame_features = []\n",
    "# db = {\"person_count\": [], \"shot\": []}\n",
    "# person_count = 0"
   ]
  },
  {
   "cell_type": "code",
   "execution_count": 8,
   "id": "54a247f5",
   "metadata": {
    "execution": {
     "iopub.execute_input": "2023-12-19T17:33:39.771579Z",
     "iopub.status.busy": "2023-12-19T17:33:39.770776Z",
     "iopub.status.idle": "2023-12-19T17:33:39.776180Z",
     "shell.execute_reply": "2023-12-19T17:33:39.775363Z"
    },
    "id": "J5ZTuFwqXPBr",
    "outputId": "19c0fe0a-47b1-4493-b618-50456190d748",
    "papermill": {
     "duration": 0.038969,
     "end_time": "2023-12-19T17:33:39.778470",
     "exception": false,
     "start_time": "2023-12-19T17:33:39.739501",
     "status": "completed"
    },
    "tags": []
   },
   "outputs": [],
   "source": [
    "# for scene in sorted(os.listdir(movie_path), key=lambda x: int(x.split(\"-\")[1])):\n",
    "#     for shot in sorted(os.listdir(movie_path+\"/\"+scene), key=lambda x: int(x.split(\"-\")[2].split(\"_\")[1])):\n",
    "#         for frame in sorted(os.listdir(movie_path+\"/\"+scene+\"/\"+shot), key=lambda x: int(x.split(\"_\")[3].split(\".\")[0])):\n",
    "#             if type(frame) == None:\n",
    "#                 continue\n",
    "#             print(frame)\n",
    "#             frame_img = cv.imread(movie_path+\"/\"+scene+\"/\"+shot+\"/\"+frame)\n",
    "#             if type(frame_img) == None:\n",
    "#                 continue\n",
    "#             frame_persons = yolo_draw_bounding_boxes(frame_img)\n",
    "#             if frame_persons == []:\n",
    "#                 continue\n",
    "#             inputs = image_processor(frame_persons, return_tensors=\"pt\")\n",
    "#             with torch.no_grad():\n",
    "#                 embeddings = dino(**inputs).last_hidden_state\n",
    "#                 embeddings = embeddings.mean(axis=1)\n",
    "#                 vectors = embeddings.detach().cpu().numpy()\n",
    "#                 vectors = np.float32(vectors)\n",
    "#                # vectors = np.reshape(vectors, (1, -1))\n",
    "#                # faiss.normalize_L2(vectors)\n",
    "#                 for i in vectors:\n",
    "#                     tempt = np.reshape(i, (1, -1))\n",
    "#                     print(tempt.shape)\n",
    "#                     frame_features.append(tempt)\n",
    "#                     db[\"person_count\"].append(person_count)\n",
    "#                     db[\"shot\"].append(shot)\n",
    "#                     person_count += 1\n",
    "#             torch.cuda.empty_cache()\n",
    "#             gc.collect()"
   ]
  },
  {
   "cell_type": "code",
   "execution_count": 9,
   "id": "07007dfd",
   "metadata": {
    "execution": {
     "iopub.execute_input": "2023-12-19T17:33:39.839352Z",
     "iopub.status.busy": "2023-12-19T17:33:39.838708Z",
     "iopub.status.idle": "2023-12-19T17:33:39.842346Z",
     "shell.execute_reply": "2023-12-19T17:33:39.841610Z"
    },
    "papermill": {
     "duration": 0.036783,
     "end_time": "2023-12-19T17:33:39.844500",
     "exception": false,
     "start_time": "2023-12-19T17:33:39.807717",
     "status": "completed"
    },
    "tags": []
   },
   "outputs": [],
   "source": [
    "# db = pd.DataFrame(db)\n",
    "# db.to_csv(\"calloused_hands-persons.csv\", index=False)"
   ]
  },
  {
   "cell_type": "code",
   "execution_count": 10,
   "id": "9b459ba2",
   "metadata": {
    "execution": {
     "iopub.execute_input": "2023-12-19T17:33:39.904928Z",
     "iopub.status.busy": "2023-12-19T17:33:39.904244Z",
     "iopub.status.idle": "2023-12-19T17:33:39.908749Z",
     "shell.execute_reply": "2023-12-19T17:33:39.907687Z"
    },
    "papermill": {
     "duration": 0.037789,
     "end_time": "2023-12-19T17:33:39.911141",
     "exception": false,
     "start_time": "2023-12-19T17:33:39.873352",
     "status": "completed"
    },
    "tags": []
   },
   "outputs": [],
   "source": [
    "# frame_features = np.array(frame_features)\n",
    "# frame_features = np.reshape(frame_features, (frame_features.shape[0], frame_features.shape[2]))\n",
    "# faiss.normalize_L2(frame_features)"
   ]
  },
  {
   "cell_type": "code",
   "execution_count": 11,
   "id": "f640e2bd",
   "metadata": {
    "execution": {
     "iopub.execute_input": "2023-12-19T17:33:39.971300Z",
     "iopub.status.busy": "2023-12-19T17:33:39.970856Z",
     "iopub.status.idle": "2023-12-19T17:33:39.975656Z",
     "shell.execute_reply": "2023-12-19T17:33:39.974487Z"
    },
    "papermill": {
     "duration": 0.03743,
     "end_time": "2023-12-19T17:33:39.977810",
     "exception": false,
     "start_time": "2023-12-19T17:33:39.940380",
     "status": "completed"
    },
    "tags": []
   },
   "outputs": [],
   "source": [
    "# dump(frame_features, \"calloused_hands-frame_features.joblib\")\n",
    "# frame_features = load(\"../input/movie-features/calloused_hands-frame_features.joblib\")"
   ]
  },
  {
   "cell_type": "code",
   "execution_count": 12,
   "id": "f17c1de4",
   "metadata": {
    "execution": {
     "iopub.execute_input": "2023-12-19T17:33:40.039564Z",
     "iopub.status.busy": "2023-12-19T17:33:40.039162Z",
     "iopub.status.idle": "2023-12-19T17:33:40.042881Z",
     "shell.execute_reply": "2023-12-19T17:33:40.042132Z"
    },
    "papermill": {
     "duration": 0.036837,
     "end_time": "2023-12-19T17:33:40.045042",
     "exception": false,
     "start_time": "2023-12-19T17:33:40.008205",
     "status": "completed"
    },
    "tags": []
   },
   "outputs": [],
   "source": [
    "# l2_index = faiss.IndexFlatL2(384)\n",
    "# res = faiss.StandardGpuResources() # declare a GPU resource\n",
    "# l2_index = faiss.index_cpu_to_gpu(res, 0, l2_cpu)"
   ]
  },
  {
   "cell_type": "code",
   "execution_count": 13,
   "id": "f5899a83",
   "metadata": {
    "execution": {
     "iopub.execute_input": "2023-12-19T17:33:40.105490Z",
     "iopub.status.busy": "2023-12-19T17:33:40.105013Z",
     "iopub.status.idle": "2023-12-19T17:33:40.109386Z",
     "shell.execute_reply": "2023-12-19T17:33:40.108565Z"
    },
    "papermill": {
     "duration": 0.037474,
     "end_time": "2023-12-19T17:33:40.111623",
     "exception": false,
     "start_time": "2023-12-19T17:33:40.074149",
     "status": "completed"
    },
    "tags": []
   },
   "outputs": [],
   "source": [
    "# l2_index.add(frame_features)\n",
    "# faiss.write_index(l2_index, \"calloused_hands-index-l2.index\")"
   ]
  },
  {
   "cell_type": "code",
   "execution_count": 14,
   "id": "8970e13a",
   "metadata": {
    "execution": {
     "iopub.execute_input": "2023-12-19T17:33:40.171987Z",
     "iopub.status.busy": "2023-12-19T17:33:40.171214Z",
     "iopub.status.idle": "2023-12-19T17:33:40.175654Z",
     "shell.execute_reply": "2023-12-19T17:33:40.174836Z"
    },
    "papermill": {
     "duration": 0.036994,
     "end_time": "2023-12-19T17:33:40.177796",
     "exception": false,
     "start_time": "2023-12-19T17:33:40.140802",
     "status": "completed"
    },
    "tags": []
   },
   "outputs": [],
   "source": [
    "# l2_ip = faiss.IndexFlatIP(384)\n",
    "# l2_ip.add(frame_features)\n",
    "# faiss.write_index(l2_ip, \"like_me-index-ip.index\")"
   ]
  },
  {
   "cell_type": "markdown",
   "id": "f9eb69b6",
   "metadata": {
    "papermill": {
     "duration": 0.029099,
     "end_time": "2023-12-19T17:33:40.237670",
     "exception": false,
     "start_time": "2023-12-19T17:33:40.208571",
     "status": "completed"
    },
    "tags": []
   },
   "source": [
    "# **CARRYING OUT SOME RETRIEVALS**"
   ]
  },
  {
   "cell_type": "code",
   "execution_count": 15,
   "id": "2c015d51",
   "metadata": {
    "execution": {
     "iopub.execute_input": "2023-12-19T17:33:40.298520Z",
     "iopub.status.busy": "2023-12-19T17:33:40.297247Z",
     "iopub.status.idle": "2023-12-19T17:33:41.064801Z",
     "shell.execute_reply": "2023-12-19T17:33:41.063535Z"
    },
    "papermill": {
     "duration": 0.800317,
     "end_time": "2023-12-19T17:33:41.067449",
     "exception": false,
     "start_time": "2023-12-19T17:33:40.267132",
     "status": "completed"
    },
    "tags": []
   },
   "outputs": [
    {
     "data": {
      "text/html": [
       "<div>\n",
       "<style scoped>\n",
       "    .dataframe tbody tr th:only-of-type {\n",
       "        vertical-align: middle;\n",
       "    }\n",
       "\n",
       "    .dataframe tbody tr th {\n",
       "        vertical-align: top;\n",
       "    }\n",
       "\n",
       "    .dataframe thead th {\n",
       "        text-align: right;\n",
       "    }\n",
       "</style>\n",
       "<table border=\"1\" class=\"dataframe\">\n",
       "  <thead>\n",
       "    <tr style=\"text-align: right;\">\n",
       "      <th></th>\n",
       "      <th>Person</th>\n",
       "      <th>Shot</th>\n",
       "      <th>Scene</th>\n",
       "      <th>Full</th>\n",
       "    </tr>\n",
       "  </thead>\n",
       "  <tbody>\n",
       "    <tr>\n",
       "      <th>0</th>\n",
       "      <td>0</td>\n",
       "      <td>1</td>\n",
       "      <td>1</td>\n",
       "      <td>Calloused_Hands-1-shot_1</td>\n",
       "    </tr>\n",
       "    <tr>\n",
       "      <th>1</th>\n",
       "      <td>1</td>\n",
       "      <td>1</td>\n",
       "      <td>1</td>\n",
       "      <td>Calloused_Hands-1-shot_1</td>\n",
       "    </tr>\n",
       "    <tr>\n",
       "      <th>2</th>\n",
       "      <td>2</td>\n",
       "      <td>1</td>\n",
       "      <td>1</td>\n",
       "      <td>Calloused_Hands-1-shot_1</td>\n",
       "    </tr>\n",
       "    <tr>\n",
       "      <th>3</th>\n",
       "      <td>3</td>\n",
       "      <td>1</td>\n",
       "      <td>1</td>\n",
       "      <td>Calloused_Hands-1-shot_1</td>\n",
       "    </tr>\n",
       "    <tr>\n",
       "      <th>4</th>\n",
       "      <td>4</td>\n",
       "      <td>1</td>\n",
       "      <td>1</td>\n",
       "      <td>Calloused_Hands-1-shot_1</td>\n",
       "    </tr>\n",
       "  </tbody>\n",
       "</table>\n",
       "</div>"
      ],
      "text/plain": [
       "   Person  Shot  Scene                      Full\n",
       "0       0     1      1  Calloused_Hands-1-shot_1\n",
       "1       1     1      1  Calloused_Hands-1-shot_1\n",
       "2       2     1      1  Calloused_Hands-1-shot_1\n",
       "3       3     1      1  Calloused_Hands-1-shot_1\n",
       "4       4     1      1  Calloused_Hands-1-shot_1"
      ]
     },
     "execution_count": 15,
     "metadata": {},
     "output_type": "execute_result"
    }
   ],
   "source": [
    "all_persons = pd.read_csv(\"../input/all-persons/Calloused_Hands_db.csv\")\n",
    "ground_truth = set(pd.read_excel(\"../input/ground-truth/ground_truth/Calloused_Hands/Byrd.xlsx\")[\"Full\"])\n",
    "all_persons.head(5)"
   ]
  },
  {
   "cell_type": "code",
   "execution_count": 16,
   "id": "4f2446f1",
   "metadata": {
    "execution": {
     "iopub.execute_input": "2023-12-19T17:33:41.128097Z",
     "iopub.status.busy": "2023-12-19T17:33:41.127308Z",
     "iopub.status.idle": "2023-12-19T17:33:41.801413Z",
     "shell.execute_reply": "2023-12-19T17:33:41.800389Z"
    },
    "papermill": {
     "duration": 0.707539,
     "end_time": "2023-12-19T17:33:41.804171",
     "exception": false,
     "start_time": "2023-12-19T17:33:41.096632",
     "status": "completed"
    },
    "tags": []
   },
   "outputs": [],
   "source": [
    "index = faiss.read_index(\"../input/movie-index/calloused_hands-index.index\")"
   ]
  },
  {
   "cell_type": "code",
   "execution_count": 17,
   "id": "cc473316",
   "metadata": {
    "execution": {
     "iopub.execute_input": "2023-12-19T17:33:41.871029Z",
     "iopub.status.busy": "2023-12-19T17:33:41.870087Z",
     "iopub.status.idle": "2023-12-19T17:33:53.760819Z",
     "shell.execute_reply": "2023-12-19T17:33:53.759242Z"
    },
    "papermill": {
     "duration": 11.929783,
     "end_time": "2023-12-19T17:33:53.763890",
     "exception": false,
     "start_time": "2023-12-19T17:33:41.834107",
     "status": "completed"
    },
    "tags": []
   },
   "outputs": [],
   "source": [
    "query_features = []\n",
    "for img_name in os.listdir(\"../input/movie-query/Calloused_Hands/Calloused_Hands/Byrd\"):\n",
    "    # if img_name == \"like_me-index.index\": continue\n",
    "   # print(img_name)\n",
    "    img = cv.imread(f\"../input/movie-query/Calloused_Hands/Calloused_Hands/Byrd/{img_name}\")\n",
    "    person = yolo_draw_bounding_boxes(img)\n",
    "    if person == []: continue\n",
    "    inputs = image_processor(person, return_tensors=\"pt\")\n",
    "    with torch.no_grad():\n",
    "        embeddings = dino(**inputs).last_hidden_state\n",
    "        embeddings = embeddings.mean(axis=1)\n",
    "        vectors = embeddings.detach().cpu().numpy()\n",
    "        vectors = np.float32(vectors)\n",
    "       # vectors = np.reshape(vectors, (1, -1))\n",
    "       # faiss.normalize_L2(vectors)\n",
    "        for i in vectors:\n",
    "            tempt = np.reshape(i, (1, -1))\n",
    "           # print(tempt.shape)\n",
    "            query_features.append(tempt)"
   ]
  },
  {
   "cell_type": "code",
   "execution_count": 18,
   "id": "3d553309",
   "metadata": {
    "execution": {
     "iopub.execute_input": "2023-12-19T17:33:53.825813Z",
     "iopub.status.busy": "2023-12-19T17:33:53.825062Z",
     "iopub.status.idle": "2023-12-19T17:33:53.831350Z",
     "shell.execute_reply": "2023-12-19T17:33:53.830467Z"
    },
    "papermill": {
     "duration": 0.040393,
     "end_time": "2023-12-19T17:33:53.833916",
     "exception": false,
     "start_time": "2023-12-19T17:33:53.793523",
     "status": "completed"
    },
    "tags": []
   },
   "outputs": [],
   "source": [
    "query_features = np.array(query_features)\n",
    "query_features = np.reshape(query_features, (query_features.shape[0], query_features.shape[2]))\n",
    "faiss.normalize_L2(query_features)"
   ]
  },
  {
   "cell_type": "code",
   "execution_count": 19,
   "id": "054be0c6",
   "metadata": {
    "execution": {
     "iopub.execute_input": "2023-12-19T17:33:53.895591Z",
     "iopub.status.busy": "2023-12-19T17:33:53.895139Z",
     "iopub.status.idle": "2023-12-19T17:33:53.904374Z",
     "shell.execute_reply": "2023-12-19T17:33:53.903310Z"
    },
    "papermill": {
     "duration": 0.042257,
     "end_time": "2023-12-19T17:33:53.906816",
     "exception": false,
     "start_time": "2023-12-19T17:33:53.864559",
     "status": "completed"
    },
    "tags": []
   },
   "outputs": [],
   "source": [
    "precision_lst = []\n",
    "recall_lst = []\n",
    "k_lst = [i for i in range(1, len(all_persons))]"
   ]
  },
  {
   "cell_type": "code",
   "execution_count": 20,
   "id": "fbb17c5c",
   "metadata": {
    "execution": {
     "iopub.execute_input": "2023-12-19T17:33:53.967362Z",
     "iopub.status.busy": "2023-12-19T17:33:53.966956Z",
     "iopub.status.idle": "2023-12-20T00:18:11.069703Z",
     "shell.execute_reply": "2023-12-20T00:18:11.068161Z"
    },
    "papermill": {
     "duration": 24257.136739,
     "end_time": "2023-12-20T00:18:11.072920",
     "exception": false,
     "start_time": "2023-12-19T17:33:53.936181",
     "status": "completed"
    },
    "tags": []
   },
   "outputs": [],
   "source": [
    "for k in k_lst:\n",
    "    D, I = index.search(query_features, k)\n",
    "    search_results = set()\n",
    "    for query in I:\n",
    "        query_set = set(query)\n",
    "        search_results.update(query_set)\n",
    "    if -1 in search_results:\n",
    "        search_results.remove(-1)\n",
    "    retrieved_shots = set()\n",
    "    for i in search_results:\n",
    "        retrieved_shots.add(all_persons[\"Full\"][i])\n",
    "    relevant_retrieved_shots = retrieved_shots & ground_truth\n",
    "    precision = len(relevant_retrieved_shots)/len(retrieved_shots)\n",
    "    recall = len(relevant_retrieved_shots)/len(ground_truth)\n",
    "    precision_lst.append(precision)\n",
    "    recall_lst.append(recall)"
   ]
  },
  {
   "cell_type": "code",
   "execution_count": 21,
   "id": "94f3b9b6",
   "metadata": {
    "execution": {
     "iopub.execute_input": "2023-12-20T00:18:11.134660Z",
     "iopub.status.busy": "2023-12-20T00:18:11.134195Z",
     "iopub.status.idle": "2023-12-20T00:18:11.723541Z",
     "shell.execute_reply": "2023-12-20T00:18:11.722369Z"
    },
    "papermill": {
     "duration": 0.622955,
     "end_time": "2023-12-20T00:18:11.725936",
     "exception": false,
     "start_time": "2023-12-20T00:18:11.102981",
     "status": "completed"
    },
    "tags": []
   },
   "outputs": [
    {
     "data": {
      "image/png": "[encoded data removed]",
      "text/plain": [
       "<Figure size 640x480 with 1 Axes>"
      ]
     },
     "metadata": {},
     "output_type": "display_data"
    }
   ],
   "source": [
    "plt.plot(k_lst, precision_lst, linewidth=3, color=\"blue\", label = \"Precision\") \n",
    "plt.plot(k_lst, recall_lst, linewidth=3, color=\"red\", label = \"Recall\") \n",
    "plt.title(\"Precision and Recall of retrieving Byrd in Calloused_Hands\") \n",
    "plt.legend() \n",
    "plt.show()"
   ]
  },
  {
   "cell_type": "markdown",
   "id": "aeb3b860",
   "metadata": {
    "papermill": {
     "duration": 0.030677,
     "end_time": "2023-12-20T00:18:11.786689",
     "exception": false,
     "start_time": "2023-12-20T00:18:11.756012",
     "status": "completed"
    },
    "tags": []
   },
   "source": [
    "# **EVALUATION OF PRECISION AND RECALL**"
   ]
  },
  {
   "cell_type": "code",
   "execution_count": 22,
   "id": "16fa4bd7",
   "metadata": {
    "execution": {
     "iopub.execute_input": "2023-12-20T00:18:11.854682Z",
     "iopub.status.busy": "2023-12-20T00:18:11.854211Z",
     "iopub.status.idle": "2023-12-20T00:18:11.859134Z",
     "shell.execute_reply": "2023-12-20T00:18:11.857934Z"
    },
    "papermill": {
     "duration": 0.044217,
     "end_time": "2023-12-20T00:18:11.861678",
     "exception": false,
     "start_time": "2023-12-20T00:18:11.817461",
     "status": "completed"
    },
    "tags": []
   },
   "outputs": [],
   "source": [
    "# ground_truth = set(pd.read_excel(\"../input/ground-truth/ground_truth/Liberty_Kid/Derrick.xlsx\")[\"Full\"])\n",
    "# print(ground_truth)"
   ]
  },
  {
   "cell_type": "code",
   "execution_count": 23,
   "id": "c805ffbb",
   "metadata": {
    "execution": {
     "iopub.execute_input": "2023-12-20T00:18:11.936313Z",
     "iopub.status.busy": "2023-12-20T00:18:11.935483Z",
     "iopub.status.idle": "2023-12-20T00:18:11.940501Z",
     "shell.execute_reply": "2023-12-20T00:18:11.939679Z"
    },
    "papermill": {
     "duration": 0.044136,
     "end_time": "2023-12-20T00:18:11.942857",
     "exception": false,
     "start_time": "2023-12-20T00:18:11.898721",
     "status": "completed"
    },
    "tags": []
   },
   "outputs": [],
   "source": [
    "# relevant_retrieved_shots = retrieved_shots & ground_truth\n",
    "# precision = len(relevant_retrieved_shots)/len(retrieved_shots)\n",
    "# recall = len(relevant_retrieved_shots)/len(ground_truth)"
   ]
  },
  {
   "cell_type": "code",
   "execution_count": 24,
   "id": "fadf1ed0",
   "metadata": {
    "execution": {
     "iopub.execute_input": "2023-12-20T00:18:12.004431Z",
     "iopub.status.busy": "2023-12-20T00:18:12.004004Z",
     "iopub.status.idle": "2023-12-20T00:18:12.008726Z",
     "shell.execute_reply": "2023-12-20T00:18:12.007510Z"
    },
    "papermill": {
     "duration": 0.037834,
     "end_time": "2023-12-20T00:18:12.010928",
     "exception": false,
     "start_time": "2023-12-20T00:18:11.973094",
     "status": "completed"
    },
    "tags": []
   },
   "outputs": [],
   "source": [
    "# print(\"Precision: {:.2f}\".format(precision))\n",
    "# print(\"Recall: {:.2f}\".format(recall))"
   ]
  },
  {
   "cell_type": "markdown",
   "id": "4a6762e0",
   "metadata": {
    "papermill": {
     "duration": 0.029898,
     "end_time": "2023-12-20T00:18:12.071057",
     "exception": false,
     "start_time": "2023-12-20T00:18:12.041159",
     "status": "completed"
    },
    "tags": []
   },
   "source": [
    "# **DEAL WITH PICKLE FEATURES ^_^**"
   ]
  },
  {
   "cell_type": "code",
   "execution_count": 25,
   "id": "8447f9fa",
   "metadata": {
    "execution": {
     "iopub.execute_input": "2023-12-20T00:18:12.134093Z",
     "iopub.status.busy": "2023-12-20T00:18:12.133424Z",
     "iopub.status.idle": "2023-12-20T00:18:12.137964Z",
     "shell.execute_reply": "2023-12-20T00:18:12.137095Z"
    },
    "papermill": {
     "duration": 0.038719,
     "end_time": "2023-12-20T00:18:12.140247",
     "exception": false,
     "start_time": "2023-12-20T00:18:12.101528",
     "status": "completed"
    },
    "tags": []
   },
   "outputs": [],
   "source": [
    "# with open('../input/pickle-features/like_me/0_like_me-1-shot_1.pkl','rb') as f:\n",
    "#     feature_vector = pickle.load(f)"
   ]
  },
  {
   "cell_type": "code",
   "execution_count": 26,
   "id": "34f6dc40",
   "metadata": {
    "execution": {
     "iopub.execute_input": "2023-12-20T00:18:12.201656Z",
     "iopub.status.busy": "2023-12-20T00:18:12.200929Z",
     "iopub.status.idle": "2023-12-20T00:18:12.206068Z",
     "shell.execute_reply": "2023-12-20T00:18:12.205244Z"
    },
    "papermill": {
     "duration": 0.038561,
     "end_time": "2023-12-20T00:18:12.208298",
     "exception": false,
     "start_time": "2023-12-20T00:18:12.169737",
     "status": "completed"
    },
    "tags": []
   },
   "outputs": [],
   "source": [
    "# feature_vectors = []\n",
    "# for file in sorted(os.listdir(\"../input/pickle-features/losing_ground/losing_ground\"), key=lambda x: int(x.split(\"_\")[0])):\n",
    "#     with open(f'../input/pickle-features/losing_ground/losing_ground/{file}','rb') as f:\n",
    "#         feature_vector = pickle.load(f)\n",
    "#         feature_vector = feature_vector.numpy().astype(np.float32).flatten().reshape(1, -1)\n",
    "#         feature_vectors.append(feature_vector)"
   ]
  },
  {
   "cell_type": "code",
   "execution_count": 27,
   "id": "90f29623",
   "metadata": {
    "execution": {
     "iopub.execute_input": "2023-12-20T00:18:12.270290Z",
     "iopub.status.busy": "2023-12-20T00:18:12.269624Z",
     "iopub.status.idle": "2023-12-20T00:18:12.274021Z",
     "shell.execute_reply": "2023-12-20T00:18:12.273191Z"
    },
    "papermill": {
     "duration": 0.038119,
     "end_time": "2023-12-20T00:18:12.276173",
     "exception": false,
     "start_time": "2023-12-20T00:18:12.238054",
     "status": "completed"
    },
    "tags": []
   },
   "outputs": [],
   "source": [
    "# feature_vectors = np.array(feature_vectors)\n",
    "# print(feature_vectors.shape)"
   ]
  },
  {
   "cell_type": "code",
   "execution_count": 28,
   "id": "7893d0ea",
   "metadata": {
    "execution": {
     "iopub.execute_input": "2023-12-20T00:18:12.338137Z",
     "iopub.status.busy": "2023-12-20T00:18:12.337466Z",
     "iopub.status.idle": "2023-12-20T00:18:12.342188Z",
     "shell.execute_reply": "2023-12-20T00:18:12.341444Z"
    },
    "papermill": {
     "duration": 0.038303,
     "end_time": "2023-12-20T00:18:12.344360",
     "exception": false,
     "start_time": "2023-12-20T00:18:12.306057",
     "status": "completed"
    },
    "tags": []
   },
   "outputs": [],
   "source": [
    "# feature_vectors = np.reshape(feature_vectors, (feature_vectors.shape[0], feature_vectors.shape[2]))"
   ]
  },
  {
   "cell_type": "code",
   "execution_count": 29,
   "id": "6cdaa04f",
   "metadata": {
    "execution": {
     "iopub.execute_input": "2023-12-20T00:18:12.405980Z",
     "iopub.status.busy": "2023-12-20T00:18:12.405260Z",
     "iopub.status.idle": "2023-12-20T00:18:12.409991Z",
     "shell.execute_reply": "2023-12-20T00:18:12.409191Z"
    },
    "papermill": {
     "duration": 0.038362,
     "end_time": "2023-12-20T00:18:12.412132",
     "exception": false,
     "start_time": "2023-12-20T00:18:12.373770",
     "status": "completed"
    },
    "tags": []
   },
   "outputs": [],
   "source": [
    "# feature_vectors = load(\"../input/movie-features/like_me-features.joblib\")"
   ]
  },
  {
   "cell_type": "code",
   "execution_count": 30,
   "id": "2ec4fb17",
   "metadata": {
    "execution": {
     "iopub.execute_input": "2023-12-20T00:18:12.473028Z",
     "iopub.status.busy": "2023-12-20T00:18:12.472347Z",
     "iopub.status.idle": "2023-12-20T00:18:12.477159Z",
     "shell.execute_reply": "2023-12-20T00:18:12.476249Z"
    },
    "papermill": {
     "duration": 0.037937,
     "end_time": "2023-12-20T00:18:12.479487",
     "exception": false,
     "start_time": "2023-12-20T00:18:12.441550",
     "status": "completed"
    },
    "tags": []
   },
   "outputs": [],
   "source": [
    "# feature_vectors = np.reshape(feature_vectors, (feature_vectors.shape[0], feature_vectors.shape[2]))"
   ]
  },
  {
   "cell_type": "code",
   "execution_count": 31,
   "id": "05c79c8e",
   "metadata": {
    "execution": {
     "iopub.execute_input": "2023-12-20T00:18:12.541033Z",
     "iopub.status.busy": "2023-12-20T00:18:12.540370Z",
     "iopub.status.idle": "2023-12-20T00:18:12.544893Z",
     "shell.execute_reply": "2023-12-20T00:18:12.544123Z"
    },
    "papermill": {
     "duration": 0.037895,
     "end_time": "2023-12-20T00:18:12.547052",
     "exception": false,
     "start_time": "2023-12-20T00:18:12.509157",
     "status": "completed"
    },
    "tags": []
   },
   "outputs": [],
   "source": [
    "# quantizer = faiss.index_factory(feature_vectors.shape[1], \"Flat\", faiss.METRIC_INNER_PRODUCT)\n",
    "# cpu_index = faiss.IndexIVFPQ(quantizer, feature_vectors.shape[1], 500 ,48, 8, faiss.METRIC_INNER_PRODUCT)"
   ]
  },
  {
   "cell_type": "code",
   "execution_count": 32,
   "id": "961e829f",
   "metadata": {
    "execution": {
     "iopub.execute_input": "2023-12-20T00:18:12.607645Z",
     "iopub.status.busy": "2023-12-20T00:18:12.607221Z",
     "iopub.status.idle": "2023-12-20T00:18:12.611921Z",
     "shell.execute_reply": "2023-12-20T00:18:12.610727Z"
    },
    "papermill": {
     "duration": 0.03803,
     "end_time": "2023-12-20T00:18:12.614427",
     "exception": false,
     "start_time": "2023-12-20T00:18:12.576397",
     "status": "completed"
    },
    "tags": []
   },
   "outputs": [],
   "source": [
    "# res = faiss.StandardGpuResources() # declare a GPU resource\n",
    "# gpu_index = faiss.index_cpu_to_gpu(res, 0, cpu_index)"
   ]
  },
  {
   "cell_type": "code",
   "execution_count": 33,
   "id": "3ca6f599",
   "metadata": {
    "execution": {
     "iopub.execute_input": "2023-12-20T00:18:12.675618Z",
     "iopub.status.busy": "2023-12-20T00:18:12.675203Z",
     "iopub.status.idle": "2023-12-20T00:18:12.679504Z",
     "shell.execute_reply": "2023-12-20T00:18:12.678445Z"
    },
    "papermill": {
     "duration": 0.037695,
     "end_time": "2023-12-20T00:18:12.681700",
     "exception": false,
     "start_time": "2023-12-20T00:18:12.644005",
     "status": "completed"
    },
    "tags": []
   },
   "outputs": [],
   "source": [
    "# gpu_index.train(feature_vectors)\n",
    "# gpu_index.add(feature_vectors)"
   ]
  },
  {
   "cell_type": "code",
   "execution_count": 34,
   "id": "5245663a",
   "metadata": {
    "execution": {
     "iopub.execute_input": "2023-12-20T00:18:12.743465Z",
     "iopub.status.busy": "2023-12-20T00:18:12.743058Z",
     "iopub.status.idle": "2023-12-20T00:18:12.747539Z",
     "shell.execute_reply": "2023-12-20T00:18:12.746385Z"
    },
    "papermill": {
     "duration": 0.038357,
     "end_time": "2023-12-20T00:18:12.749868",
     "exception": false,
     "start_time": "2023-12-20T00:18:12.711511",
     "status": "completed"
    },
    "tags": []
   },
   "outputs": [],
   "source": [
    "# final_index = faiss.index_gpu_to_cpu(gpu_index)"
   ]
  },
  {
   "cell_type": "code",
   "execution_count": 35,
   "id": "0be629b3",
   "metadata": {
    "execution": {
     "iopub.execute_input": "2023-12-20T00:18:12.811026Z",
     "iopub.status.busy": "2023-12-20T00:18:12.810643Z",
     "iopub.status.idle": "2023-12-20T00:18:12.815070Z",
     "shell.execute_reply": "2023-12-20T00:18:12.813930Z"
    },
    "papermill": {
     "duration": 0.038282,
     "end_time": "2023-12-20T00:18:12.817473",
     "exception": false,
     "start_time": "2023-12-20T00:18:12.779191",
     "status": "completed"
    },
    "tags": []
   },
   "outputs": [],
   "source": [
    "# faiss.write_index(cpu_index, \"like_me-index.index\")"
   ]
  },
  {
   "cell_type": "code",
   "execution_count": 36,
   "id": "21049912",
   "metadata": {
    "execution": {
     "iopub.execute_input": "2023-12-20T00:18:12.879716Z",
     "iopub.status.busy": "2023-12-20T00:18:12.878853Z",
     "iopub.status.idle": "2023-12-20T00:18:12.883960Z",
     "shell.execute_reply": "2023-12-20T00:18:12.883153Z"
    },
    "papermill": {
     "duration": 0.039033,
     "end_time": "2023-12-20T00:18:12.886142",
     "exception": false,
     "start_time": "2023-12-20T00:18:12.847109",
     "status": "completed"
    },
    "tags": []
   },
   "outputs": [],
   "source": [
    "# quantizer = faiss.index_factory(75648, \"Flat\", faiss.METRIC_INNER_PRODUCT)\n",
    "# index = faiss.IndexIVFPQ(quantizer, 75648, 100 ,48, 8, faiss.METRIC_INNER_PRODUCT)"
   ]
  },
  {
   "cell_type": "code",
   "execution_count": 37,
   "id": "fcc50454",
   "metadata": {
    "execution": {
     "iopub.execute_input": "2023-12-20T00:18:12.948352Z",
     "iopub.status.busy": "2023-12-20T00:18:12.947266Z",
     "iopub.status.idle": "2023-12-20T00:18:12.952203Z",
     "shell.execute_reply": "2023-12-20T00:18:12.951385Z"
    },
    "papermill": {
     "duration": 0.037879,
     "end_time": "2023-12-20T00:18:12.954379",
     "exception": false,
     "start_time": "2023-12-20T00:18:12.916500",
     "status": "completed"
    },
    "tags": []
   },
   "outputs": [],
   "source": [
    "# res = faiss.StandardGpuResources() # declare a GPU resource\n",
    "# gpu_index = faiss.index_cpu_to_gpu(res, 0, index)"
   ]
  },
  {
   "cell_type": "code",
   "execution_count": 38,
   "id": "e0de906f",
   "metadata": {
    "execution": {
     "iopub.execute_input": "2023-12-20T00:18:13.015311Z",
     "iopub.status.busy": "2023-12-20T00:18:13.014512Z",
     "iopub.status.idle": "2023-12-20T00:18:13.019701Z",
     "shell.execute_reply": "2023-12-20T00:18:13.018260Z"
    },
    "papermill": {
     "duration": 0.038758,
     "end_time": "2023-12-20T00:18:13.022523",
     "exception": false,
     "start_time": "2023-12-20T00:18:12.983765",
     "status": "completed"
    },
    "tags": []
   },
   "outputs": [],
   "source": [
    "# faiss.compute_nprobe(x)"
   ]
  },
  {
   "cell_type": "code",
   "execution_count": 39,
   "id": "a8f9b9ca",
   "metadata": {
    "execution": {
     "iopub.execute_input": "2023-12-20T00:18:13.083507Z",
     "iopub.status.busy": "2023-12-20T00:18:13.083057Z",
     "iopub.status.idle": "2023-12-20T00:18:13.087781Z",
     "shell.execute_reply": "2023-12-20T00:18:13.086838Z"
    },
    "papermill": {
     "duration": 0.038001,
     "end_time": "2023-12-20T00:18:13.089970",
     "exception": false,
     "start_time": "2023-12-20T00:18:13.051969",
     "status": "completed"
    },
    "tags": []
   },
   "outputs": [],
   "source": [
    "# gpu_index.train(x)"
   ]
  },
  {
   "cell_type": "code",
   "execution_count": 40,
   "id": "b7e9d25e",
   "metadata": {
    "execution": {
     "iopub.execute_input": "2023-12-20T00:18:13.151065Z",
     "iopub.status.busy": "2023-12-20T00:18:13.150373Z",
     "iopub.status.idle": "2023-12-20T00:18:13.154895Z",
     "shell.execute_reply": "2023-12-20T00:18:13.153827Z"
    },
    "papermill": {
     "duration": 0.037898,
     "end_time": "2023-12-20T00:18:13.157373",
     "exception": false,
     "start_time": "2023-12-20T00:18:13.119475",
     "status": "completed"
    },
    "tags": []
   },
   "outputs": [],
   "source": [
    "# gpu_index.add(x)"
   ]
  },
  {
   "cell_type": "code",
   "execution_count": 41,
   "id": "722998c1",
   "metadata": {
    "execution": {
     "iopub.execute_input": "2023-12-20T00:18:13.219398Z",
     "iopub.status.busy": "2023-12-20T00:18:13.218899Z",
     "iopub.status.idle": "2023-12-20T00:18:13.223819Z",
     "shell.execute_reply": "2023-12-20T00:18:13.222752Z"
    },
    "papermill": {
     "duration": 0.038807,
     "end_time": "2023-12-20T00:18:13.226298",
     "exception": false,
     "start_time": "2023-12-20T00:18:13.187491",
     "status": "completed"
    },
    "tags": []
   },
   "outputs": [],
   "source": [
    "# faiss.normalize_L2(q)\n",
    "# distance, indices = gpu_index.search(q, 15)\n",
    "# print('Distance by FAISS:{}'.format(distance))"
   ]
  },
  {
   "cell_type": "code",
   "execution_count": null,
   "id": "0467fa8e",
   "metadata": {
    "papermill": {
     "duration": 0.029134,
     "end_time": "2023-12-20T00:18:13.285280",
     "exception": false,
     "start_time": "2023-12-20T00:18:13.256146",
     "status": "completed"
    },
    "tags": []
   },
   "outputs": [],
   "source": []
  }
 ],
 "metadata": {
  "colab": {
   "provenance": []
  },
  "kaggle": {
   "accelerator": "none",
   "dataSources": [
    {
     "datasetId": 4113361,
     "sourceId": 7129716,
     "sourceType": "datasetVersion"
    },
    {
     "datasetId": 4129524,
     "sourceId": 7152012,
     "sourceType": "datasetVersion"
    },
    {
     "datasetId": 4141467,
     "sourceId": 7168545,
     "sourceType": "datasetVersion"
    },
    {
     "datasetId": 4141489,
     "sourceId": 7168745,
     "sourceType": "datasetVersion"
    },
    {
     "datasetId": 4143966,
     "sourceId": 7172135,
     "sourceType": "datasetVersion"
    },
    {
     "datasetId": 4153580,
     "sourceId": 7185992,
     "sourceType": "datasetVersion"
    },
    {
     "datasetId": 4154373,
     "sourceId": 7186103,
     "sourceType": "datasetVersion"
    },
    {
     "datasetId": 4143990,
     "sourceId": 7219727,
     "sourceType": "datasetVersion"
    },
    {
     "datasetId": 4129755,
     "sourceId": 7222501,
     "sourceType": "datasetVersion"
    },
    {
     "datasetId": 4140341,
     "sourceId": 7229468,
     "sourceType": "datasetVersion"
    },
    {
     "datasetId": 4143983,
     "sourceId": 7230308,
     "sourceType": "datasetVersion"
    }
   ],
   "dockerImageVersionId": 30587,
   "isGpuEnabled": false,
   "isInternetEnabled": true,
   "language": "python",
   "sourceType": "notebook"
  },
  "kernelspec": {
   "display_name": "Python 3",
   "language": "python",
   "name": "python3"
  },
  "language_info": {
   "codemirror_mode": {
    "name": "ipython",
    "version": 3
   },
   "file_extension": ".py",
   "mimetype": "text/x-python",
   "name": "python",
   "nbconvert_exporter": "python",
   "pygments_lexer": "ipython3",
   "version": "3.10.12"
  },
  "papermill": {
   "default_parameters": {},
   "duration": 24402.38462,
   "end_time": "2023-12-20T00:18:16.805821",
   "environment_variables": {},
   "exception": null,
   "input_path": "__notebook__.ipynb",
   "output_path": "__notebook__.ipynb",
   "parameters": {},
   "start_time": "2023-12-19T17:31:34.421201",
   "version": "2.4.0"
  },
  "widgets": {
   "application/vnd.jupyter.widget-state+json": {
    "state": {
     "12216697a49748b681c04e93524819f4": {
      "model_module": "@jupyter-widgets/controls",
      "model_module_version": "1.5.0",
      "model_name": "ProgressStyleModel",
      "state": {
       "_model_module": "@jupyter-widgets/controls",
       "_model_module_version": "1.5.0",
       "_model_name": "ProgressStyleModel",
       "_view_count": null,
       "_view_module": "@jupyter-widgets/base",
       "_view_module_version": "1.2.0",
       "_view_name": "StyleView",
       "bar_color": null,
       "description_width": ""
      }
     },
     "1365040c3dc34af9a98be13100cd8b76": {
      "model_module": "@jupyter-widgets/base",
      "model_module_version": "1.2.0",
      "model_name": "LayoutModel",
      "state": {
       "_model_module": "@jupyter-widgets/base",
       "_model_module_version": "1.2.0",
       "_model_name": "LayoutModel",
       "_view_count": null,
       "_view_module": "@jupyter-widgets/base",
       "_view_module_version": "1.2.0",
       "_view_name": "LayoutView",
       "align_content": null,
       "align_items": null,
       "align_self": null,
       "border": null,
       "bottom": null,
       "display": null,
       "flex": null,
       "flex_flow": null,
       "grid_area": null,
       "grid_auto_columns": null,
       "grid_auto_flow": null,
       "grid_auto_rows": null,
       "grid_column": null,
       "grid_gap": null,
       "grid_row": null,
       "grid_template_areas": null,
       "grid_template_columns": null,
       "grid_template_rows": null,
       "height": null,
       "justify_content": null,
       "justify_items": null,
       "left": null,
       "margin": null,
       "max_height": null,
       "max_width": null,
       "min_height": null,
       "min_width": null,
       "object_fit": null,
       "object_position": null,
       "order": null,
       "overflow": null,
       "overflow_x": null,
       "overflow_y": null,
       "padding": null,
       "right": null,
       "top": null,
       "visibility": null,
       "width": null
      }
     },
     "16011fbccc4a4f2bbcf5db7ec0d64fb4": {
      "model_module": "@jupyter-widgets/base",
      "model_module_version": "1.2.0",
      "model_name": "LayoutModel",
      "state": {
       "_model_module": "@jupyter-widgets/base",
       "_model_module_version": "1.2.0",
       "_model_name": "LayoutModel",
       "_view_count": null,
       "_view_module": "@jupyter-widgets/base",
       "_view_module_version": "1.2.0",
       "_view_name": "LayoutView",
       "align_content": null,
       "align_items": null,
       "align_self": null,
       "border": null,
       "bottom": null,
       "display": null,
       "flex": null,
       "flex_flow": null,
       "grid_area": null,
       "grid_auto_columns": null,
       "grid_auto_flow": null,
       "grid_auto_rows": null,
       "grid_column": null,
       "grid_gap": null,
       "grid_row": null,
       "grid_template_areas": null,
       "grid_template_columns": null,
       "grid_template_rows": null,
       "height": null,
       "justify_content": null,
       "justify_items": null,
       "left": null,
       "margin": null,
       "max_height": null,
       "max_width": null,
       "min_height": null,
       "min_width": null,
       "object_fit": null,
       "object_position": null,
       "order": null,
       "overflow": null,
       "overflow_x": null,
       "overflow_y": null,
       "padding": null,
       "right": null,
       "top": null,
       "visibility": null,
       "width": null
      }
     },
     "1865b30384264de0a4bfeed2d92d836f": {
      "model_module": "@jupyter-widgets/base",
      "model_module_version": "1.2.0",
      "model_name": "LayoutModel",
      "state": {
       "_model_module": "@jupyter-widgets/base",
       "_model_module_version": "1.2.0",
       "_model_name": "LayoutModel",
       "_view_count": null,
       "_view_module": "@jupyter-widgets/base",
       "_view_module_version": "1.2.0",
       "_view_name": "LayoutView",
       "align_content": null,
       "align_items": null,
       "align_self": null,
       "border": null,
       "bottom": null,
       "display": null,
       "flex": null,
       "flex_flow": null,
       "grid_area": null,
       "grid_auto_columns": null,
       "grid_auto_flow": null,
       "grid_auto_rows": null,
       "grid_column": null,
       "grid_gap": null,
       "grid_row": null,
       "grid_template_areas": null,
       "grid_template_columns": null,
       "grid_template_rows": null,
       "height": null,
       "justify_content": null,
       "justify_items": null,
       "left": null,
       "margin": null,
       "max_height": null,
       "max_width": null,
       "min_height": null,
       "min_width": null,
       "object_fit": null,
       "object_position": null,
       "order": null,
       "overflow": null,
       "overflow_x": null,
       "overflow_y": null,
       "padding": null,
       "right": null,
       "top": null,
       "visibility": null,
       "width": null
      }
     },
     "1cf828b437d041f8bf493c733a064654": {
      "model_module": "@jupyter-widgets/controls",
      "model_module_version": "1.5.0",
      "model_name": "FloatProgressModel",
      "state": {
       "_dom_classes": [],
       "_model_module": "@jupyter-widgets/controls",
       "_model_module_version": "1.5.0",
       "_model_name": "FloatProgressModel",
       "_view_count": null,
       "_view_module": "@jupyter-widgets/controls",
       "_view_module_version": "1.5.0",
       "_view_name": "ProgressView",
       "bar_style": "success",
       "description": "",
       "description_tooltip": null,
       "layout": "IPY_MODEL_d7a1087b1b30437584d846af2dc9d7bf",
       "max": 88249960.0,
       "min": 0.0,
       "orientation": "horizontal",
       "style": "IPY_MODEL_94938b7cb2b147c7b59df93a869cf167",
       "value": 88249960.0
      }
     },
     "276a55a2f9064aef89b3879713676779": {
      "model_module": "@jupyter-widgets/controls",
      "model_module_version": "1.5.0",
      "model_name": "HTMLModel",
      "state": {
       "_dom_classes": [],
       "_model_module": "@jupyter-widgets/controls",
       "_model_module_version": "1.5.0",
       "_model_name": "HTMLModel",
       "_view_count": null,
       "_view_module": "@jupyter-widgets/controls",
       "_view_module_version": "1.5.0",
       "_view_name": "HTMLView",
       "description": "",
       "description_tooltip": null,
       "layout": "IPY_MODEL_5ac73426f66948abbe1bb7b163854218",
       "placeholder": "​",
       "style": "IPY_MODEL_5724e50264e147b2881462a748935b96",
       "value": " 88.2M/88.2M [00:00&lt;00:00, 166MB/s]"
      }
     },
     "356fa6e593fe4bcca80e8b5d110e2af4": {
      "model_module": "@jupyter-widgets/controls",
      "model_module_version": "1.5.0",
      "model_name": "HBoxModel",
      "state": {
       "_dom_classes": [],
       "_model_module": "@jupyter-widgets/controls",
       "_model_module_version": "1.5.0",
       "_model_name": "HBoxModel",
       "_view_count": null,
       "_view_module": "@jupyter-widgets/controls",
       "_view_module_version": "1.5.0",
       "_view_name": "HBoxView",
       "box_style": "",
       "children": [
        "IPY_MODEL_f942225c1a4c4c99b413ff05535843f8",
        "IPY_MODEL_e7a1c5ac159b49889ee6f86f90e299d4",
        "IPY_MODEL_d389a6631f494d15b19d80b566b30315"
       ],
       "layout": "IPY_MODEL_9e037111b82849739d14c7799b925ba5"
      }
     },
     "37479cc601dc4134a2ce4a5e378d1ef0": {
      "model_module": "@jupyter-widgets/base",
      "model_module_version": "1.2.0",
      "model_name": "LayoutModel",
      "state": {
       "_model_module": "@jupyter-widgets/base",
       "_model_module_version": "1.2.0",
       "_model_name": "LayoutModel",
       "_view_count": null,
       "_view_module": "@jupyter-widgets/base",
       "_view_module_version": "1.2.0",
       "_view_name": "LayoutView",
       "align_content": null,
       "align_items": null,
       "align_self": null,
       "border": null,
       "bottom": null,
       "display": null,
       "flex": null,
       "flex_flow": null,
       "grid_area": null,
       "grid_auto_columns": null,
       "grid_auto_flow": null,
       "grid_auto_rows": null,
       "grid_column": null,
       "grid_gap": null,
       "grid_row": null,
       "grid_template_areas": null,
       "grid_template_columns": null,
       "grid_template_rows": null,
       "height": null,
       "justify_content": null,
       "justify_items": null,
       "left": null,
       "margin": null,
       "max_height": null,
       "max_width": null,
       "min_height": null,
       "min_width": null,
       "object_fit": null,
       "object_position": null,
       "order": null,
       "overflow": null,
       "overflow_x": null,
       "overflow_y": null,
       "padding": null,
       "right": null,
       "top": null,
       "visibility": null,
       "width": null
      }
     },
     "4361a768a7a6446382bf822686e24ae2": {
      "model_module": "@jupyter-widgets/controls",
      "model_module_version": "1.5.0",
      "model_name": "HBoxModel",
      "state": {
       "_dom_classes": [],
       "_model_module": "@jupyter-widgets/controls",
       "_model_module_version": "1.5.0",
       "_model_name": "HBoxModel",
       "_view_count": null,
       "_view_module": "@jupyter-widgets/controls",
       "_view_module_version": "1.5.0",
       "_view_name": "HBoxView",
       "box_style": "",
       "children": [
        "IPY_MODEL_8301d5421eee4cffaad2baf0503120db",
        "IPY_MODEL_f65391db4d4d4825971a1ac0767e0ca3",
        "IPY_MODEL_92f26da4625d4131b6ce1bbaf7001fe0"
       ],
       "layout": "IPY_MODEL_16011fbccc4a4f2bbcf5db7ec0d64fb4"
      }
     },
     "49e1812bacf94765985e2d5650b49560": {
      "model_module": "@jupyter-widgets/base",
      "model_module_version": "1.2.0",
      "model_name": "LayoutModel",
      "state": {
       "_model_module": "@jupyter-widgets/base",
       "_model_module_version": "1.2.0",
       "_model_name": "LayoutModel",
       "_view_count": null,
       "_view_module": "@jupyter-widgets/base",
       "_view_module_version": "1.2.0",
       "_view_name": "LayoutView",
       "align_content": null,
       "align_items": null,
       "align_self": null,
       "border": null,
       "bottom": null,
       "display": null,
       "flex": null,
       "flex_flow": null,
       "grid_area": null,
       "grid_auto_columns": null,
       "grid_auto_flow": null,
       "grid_auto_rows": null,
       "grid_column": null,
       "grid_gap": null,
       "grid_row": null,
       "grid_template_areas": null,
       "grid_template_columns": null,
       "grid_template_rows": null,
       "height": null,
       "justify_content": null,
       "justify_items": null,
       "left": null,
       "margin": null,
       "max_height": null,
       "max_width": null,
       "min_height": null,
       "min_width": null,
       "object_fit": null,
       "object_position": null,
       "order": null,
       "overflow": null,
       "overflow_x": null,
       "overflow_y": null,
       "padding": null,
       "right": null,
       "top": null,
       "visibility": null,
       "width": null
      }
     },
     "5724e50264e147b2881462a748935b96": {
      "model_module": "@jupyter-widgets/controls",
      "model_module_version": "1.5.0",
      "model_name": "DescriptionStyleModel",
      "state": {
       "_model_module": "@jupyter-widgets/controls",
       "_model_module_version": "1.5.0",
       "_model_name": "DescriptionStyleModel",
       "_view_count": null,
       "_view_module": "@jupyter-widgets/base",
       "_view_module_version": "1.2.0",
       "_view_name": "StyleView",
       "description_width": ""
      }
     },
     "5ac73426f66948abbe1bb7b163854218": {
      "model_module": "@jupyter-widgets/base",
      "model_module_version": "1.2.0",
      "model_name": "LayoutModel",
      "state": {
       "_model_module": "@jupyter-widgets/base",
       "_model_module_version": "1.2.0",
       "_model_name": "LayoutModel",
       "_view_count": null,
       "_view_module": "@jupyter-widgets/base",
       "_view_module_version": "1.2.0",
       "_view_name": "LayoutView",
       "align_content": null,
       "align_items": null,
       "align_self": null,
       "border": null,
       "bottom": null,
       "display": null,
       "flex": null,
       "flex_flow": null,
       "grid_area": null,
       "grid_auto_columns": null,
       "grid_auto_flow": null,
       "grid_auto_rows": null,
       "grid_column": null,
       "grid_gap": null,
       "grid_row": null,
       "grid_template_areas": null,
       "grid_template_columns": null,
       "grid_template_rows": null,
       "height": null,
       "justify_content": null,
       "justify_items": null,
       "left": null,
       "margin": null,
       "max_height": null,
       "max_width": null,
       "min_height": null,
       "min_width": null,
       "object_fit": null,
       "object_position": null,
       "order": null,
       "overflow": null,
       "overflow_x": null,
       "overflow_y": null,
       "padding": null,
       "right": null,
       "top": null,
       "visibility": null,
       "width": null
      }
     },
     "652ef61c6c7649199c749c4e5fd98426": {
      "model_module": "@jupyter-widgets/controls",
      "model_module_version": "1.5.0",
      "model_name": "ProgressStyleModel",
      "state": {
       "_model_module": "@jupyter-widgets/controls",
       "_model_module_version": "1.5.0",
       "_model_name": "ProgressStyleModel",
       "_view_count": null,
       "_view_module": "@jupyter-widgets/base",
       "_view_module_version": "1.2.0",
       "_view_name": "StyleView",
       "bar_color": null,
       "description_width": ""
      }
     },
     "8301d5421eee4cffaad2baf0503120db": {
      "model_module": "@jupyter-widgets/controls",
      "model_module_version": "1.5.0",
      "model_name": "HTMLModel",
      "state": {
       "_dom_classes": [],
       "_model_module": "@jupyter-widgets/controls",
       "_model_module_version": "1.5.0",
       "_model_name": "HTMLModel",
       "_view_count": null,
       "_view_module": "@jupyter-widgets/controls",
       "_view_module_version": "1.5.0",
       "_view_name": "HTMLView",
       "description": "",
       "description_tooltip": null,
       "layout": "IPY_MODEL_1865b30384264de0a4bfeed2d92d836f",
       "placeholder": "​",
       "style": "IPY_MODEL_afea475ec1174533bf8ec72d30e97c0a",
       "value": "Downloading config.json: 100%"
      }
     },
     "85d5359912064f5fb4bd5d332d524bb0": {
      "model_module": "@jupyter-widgets/controls",
      "model_module_version": "1.5.0",
      "model_name": "DescriptionStyleModel",
      "state": {
       "_model_module": "@jupyter-widgets/controls",
       "_model_module_version": "1.5.0",
       "_model_name": "DescriptionStyleModel",
       "_view_count": null,
       "_view_module": "@jupyter-widgets/base",
       "_view_module_version": "1.2.0",
       "_view_name": "StyleView",
       "description_width": ""
      }
     },
     "92f26da4625d4131b6ce1bbaf7001fe0": {
      "model_module": "@jupyter-widgets/controls",
      "model_module_version": "1.5.0",
      "model_name": "HTMLModel",
      "state": {
       "_dom_classes": [],
       "_model_module": "@jupyter-widgets/controls",
       "_model_module_version": "1.5.0",
       "_model_name": "HTMLModel",
       "_view_count": null,
       "_view_module": "@jupyter-widgets/controls",
       "_view_module_version": "1.5.0",
       "_view_name": "HTMLView",
       "description": "",
       "description_tooltip": null,
       "layout": "IPY_MODEL_d594c7de81bc48988a98502fc4839324",
       "placeholder": "​",
       "style": "IPY_MODEL_c9e7dbb75dc646d9afa0e0d4b0309b44",
       "value": " 547/547 [00:00&lt;00:00, 38.9kB/s]"
      }
     },
     "94938b7cb2b147c7b59df93a869cf167": {
      "model_module": "@jupyter-widgets/controls",
      "model_module_version": "1.5.0",
      "model_name": "ProgressStyleModel",
      "state": {
       "_model_module": "@jupyter-widgets/controls",
       "_model_module_version": "1.5.0",
       "_model_name": "ProgressStyleModel",
       "_view_count": null,
       "_view_module": "@jupyter-widgets/base",
       "_view_module_version": "1.2.0",
       "_view_name": "StyleView",
       "bar_color": null,
       "description_width": ""
      }
     },
     "9e037111b82849739d14c7799b925ba5": {
      "model_module": "@jupyter-widgets/base",
      "model_module_version": "1.2.0",
      "model_name": "LayoutModel",
      "state": {
       "_model_module": "@jupyter-widgets/base",
       "_model_module_version": "1.2.0",
       "_model_name": "LayoutModel",
       "_view_count": null,
       "_view_module": "@jupyter-widgets/base",
       "_view_module_version": "1.2.0",
       "_view_name": "LayoutView",
       "align_content": null,
       "align_items": null,
       "align_self": null,
       "border": null,
       "bottom": null,
       "display": null,
       "flex": null,
       "flex_flow": null,
       "grid_area": null,
       "grid_auto_columns": null,
       "grid_auto_flow": null,
       "grid_auto_rows": null,
       "grid_column": null,
       "grid_gap": null,
       "grid_row": null,
       "grid_template_areas": null,
       "grid_template_columns": null,
       "grid_template_rows": null,
       "height": null,
       "justify_content": null,
       "justify_items": null,
       "left": null,
       "margin": null,
       "max_height": null,
       "max_width": null,
       "min_height": null,
       "min_width": null,
       "object_fit": null,
       "object_position": null,
       "order": null,
       "overflow": null,
       "overflow_x": null,
       "overflow_y": null,
       "padding": null,
       "right": null,
       "top": null,
       "visibility": null,
       "width": null
      }
     },
     "9ee6f20ab99d46b980277cf8ed50d7c3": {
      "model_module": "@jupyter-widgets/base",
      "model_module_version": "1.2.0",
      "model_name": "LayoutModel",
      "state": {
       "_model_module": "@jupyter-widgets/base",
       "_model_module_version": "1.2.0",
       "_model_name": "LayoutModel",
       "_view_count": null,
       "_view_module": "@jupyter-widgets/base",
       "_view_module_version": "1.2.0",
       "_view_name": "LayoutView",
       "align_content": null,
       "align_items": null,
       "align_self": null,
       "border": null,
       "bottom": null,
       "display": null,
       "flex": null,
       "flex_flow": null,
       "grid_area": null,
       "grid_auto_columns": null,
       "grid_auto_flow": null,
       "grid_auto_rows": null,
       "grid_column": null,
       "grid_gap": null,
       "grid_row": null,
       "grid_template_areas": null,
       "grid_template_columns": null,
       "grid_template_rows": null,
       "height": null,
       "justify_content": null,
       "justify_items": null,
       "left": null,
       "margin": null,
       "max_height": null,
       "max_width": null,
       "min_height": null,
       "min_width": null,
       "object_fit": null,
       "object_position": null,
       "order": null,
       "overflow": null,
       "overflow_x": null,
       "overflow_y": null,
       "padding": null,
       "right": null,
       "top": null,
       "visibility": null,
       "width": null
      }
     },
     "afea475ec1174533bf8ec72d30e97c0a": {
      "model_module": "@jupyter-widgets/controls",
      "model_module_version": "1.5.0",
      "model_name": "DescriptionStyleModel",
      "state": {
       "_model_module": "@jupyter-widgets/controls",
       "_model_module_version": "1.5.0",
       "_model_name": "DescriptionStyleModel",
       "_view_count": null,
       "_view_module": "@jupyter-widgets/base",
       "_view_module_version": "1.2.0",
       "_view_name": "StyleView",
       "description_width": ""
      }
     },
     "c0b18acd190c4ba69a77d49dd221fb37": {
      "model_module": "@jupyter-widgets/controls",
      "model_module_version": "1.5.0",
      "model_name": "DescriptionStyleModel",
      "state": {
       "_model_module": "@jupyter-widgets/controls",
       "_model_module_version": "1.5.0",
       "_model_name": "DescriptionStyleModel",
       "_view_count": null,
       "_view_module": "@jupyter-widgets/base",
       "_view_module_version": "1.2.0",
       "_view_name": "StyleView",
       "description_width": ""
      }
     },
     "c1ddfa239ee343e39a3923c52f958400": {
      "model_module": "@jupyter-widgets/controls",
      "model_module_version": "1.5.0",
      "model_name": "DescriptionStyleModel",
      "state": {
       "_model_module": "@jupyter-widgets/controls",
       "_model_module_version": "1.5.0",
       "_model_name": "DescriptionStyleModel",
       "_view_count": null,
       "_view_module": "@jupyter-widgets/base",
       "_view_module_version": "1.2.0",
       "_view_name": "StyleView",
       "description_width": ""
      }
     },
     "c9e7dbb75dc646d9afa0e0d4b0309b44": {
      "model_module": "@jupyter-widgets/controls",
      "model_module_version": "1.5.0",
      "model_name": "DescriptionStyleModel",
      "state": {
       "_model_module": "@jupyter-widgets/controls",
       "_model_module_version": "1.5.0",
       "_model_name": "DescriptionStyleModel",
       "_view_count": null,
       "_view_module": "@jupyter-widgets/base",
       "_view_module_version": "1.2.0",
       "_view_name": "StyleView",
       "description_width": ""
      }
     },
     "d2d41034084642b09fe9d6e4651d8e9b": {
      "model_module": "@jupyter-widgets/controls",
      "model_module_version": "1.5.0",
      "model_name": "HTMLModel",
      "state": {
       "_dom_classes": [],
       "_model_module": "@jupyter-widgets/controls",
       "_model_module_version": "1.5.0",
       "_model_name": "HTMLModel",
       "_view_count": null,
       "_view_module": "@jupyter-widgets/controls",
       "_view_module_version": "1.5.0",
       "_view_name": "HTMLView",
       "description": "",
       "description_tooltip": null,
       "layout": "IPY_MODEL_9ee6f20ab99d46b980277cf8ed50d7c3",
       "placeholder": "​",
       "style": "IPY_MODEL_85d5359912064f5fb4bd5d332d524bb0",
       "value": "Downloading model.safetensors: 100%"
      }
     },
     "d389a6631f494d15b19d80b566b30315": {
      "model_module": "@jupyter-widgets/controls",
      "model_module_version": "1.5.0",
      "model_name": "HTMLModel",
      "state": {
       "_dom_classes": [],
       "_model_module": "@jupyter-widgets/controls",
       "_model_module_version": "1.5.0",
       "_model_name": "HTMLModel",
       "_view_count": null,
       "_view_module": "@jupyter-widgets/controls",
       "_view_module_version": "1.5.0",
       "_view_name": "HTMLView",
       "description": "",
       "description_tooltip": null,
       "layout": "IPY_MODEL_ec76e2d9ac2f4e0fb9665da4eec88000",
       "placeholder": "​",
       "style": "IPY_MODEL_c0b18acd190c4ba69a77d49dd221fb37",
       "value": " 436/436 [00:00&lt;00:00, 29.3kB/s]"
      }
     },
     "d594c7de81bc48988a98502fc4839324": {
      "model_module": "@jupyter-widgets/base",
      "model_module_version": "1.2.0",
      "model_name": "LayoutModel",
      "state": {
       "_model_module": "@jupyter-widgets/base",
       "_model_module_version": "1.2.0",
       "_model_name": "LayoutModel",
       "_view_count": null,
       "_view_module": "@jupyter-widgets/base",
       "_view_module_version": "1.2.0",
       "_view_name": "LayoutView",
       "align_content": null,
       "align_items": null,
       "align_self": null,
       "border": null,
       "bottom": null,
       "display": null,
       "flex": null,
       "flex_flow": null,
       "grid_area": null,
       "grid_auto_columns": null,
       "grid_auto_flow": null,
       "grid_auto_rows": null,
       "grid_column": null,
       "grid_gap": null,
       "grid_row": null,
       "grid_template_areas": null,
       "grid_template_columns": null,
       "grid_template_rows": null,
       "height": null,
       "justify_content": null,
       "justify_items": null,
       "left": null,
       "margin": null,
       "max_height": null,
       "max_width": null,
       "min_height": null,
       "min_width": null,
       "object_fit": null,
       "object_position": null,
       "order": null,
       "overflow": null,
       "overflow_x": null,
       "overflow_y": null,
       "padding": null,
       "right": null,
       "top": null,
       "visibility": null,
       "width": null
      }
     },
     "d7a1087b1b30437584d846af2dc9d7bf": {
      "model_module": "@jupyter-widgets/base",
      "model_module_version": "1.2.0",
      "model_name": "LayoutModel",
      "state": {
       "_model_module": "@jupyter-widgets/base",
       "_model_module_version": "1.2.0",
       "_model_name": "LayoutModel",
       "_view_count": null,
       "_view_module": "@jupyter-widgets/base",
       "_view_module_version": "1.2.0",
       "_view_name": "LayoutView",
       "align_content": null,
       "align_items": null,
       "align_self": null,
       "border": null,
       "bottom": null,
       "display": null,
       "flex": null,
       "flex_flow": null,
       "grid_area": null,
       "grid_auto_columns": null,
       "grid_auto_flow": null,
       "grid_auto_rows": null,
       "grid_column": null,
       "grid_gap": null,
       "grid_row": null,
       "grid_template_areas": null,
       "grid_template_columns": null,
       "grid_template_rows": null,
       "height": null,
       "justify_content": null,
       "justify_items": null,
       "left": null,
       "margin": null,
       "max_height": null,
       "max_width": null,
       "min_height": null,
       "min_width": null,
       "object_fit": null,
       "object_position": null,
       "order": null,
       "overflow": null,
       "overflow_x": null,
       "overflow_y": null,
       "padding": null,
       "right": null,
       "top": null,
       "visibility": null,
       "width": null
      }
     },
     "e7a1c5ac159b49889ee6f86f90e299d4": {
      "model_module": "@jupyter-widgets/controls",
      "model_module_version": "1.5.0",
      "model_name": "FloatProgressModel",
      "state": {
       "_dom_classes": [],
       "_model_module": "@jupyter-widgets/controls",
       "_model_module_version": "1.5.0",
       "_model_name": "FloatProgressModel",
       "_view_count": null,
       "_view_module": "@jupyter-widgets/controls",
       "_view_module_version": "1.5.0",
       "_view_name": "ProgressView",
       "bar_style": "success",
       "description": "",
       "description_tooltip": null,
       "layout": "IPY_MODEL_f75cb45d3bcf412faf17d15d3925e901",
       "max": 436.0,
       "min": 0.0,
       "orientation": "horizontal",
       "style": "IPY_MODEL_652ef61c6c7649199c749c4e5fd98426",
       "value": 436.0
      }
     },
     "ec76e2d9ac2f4e0fb9665da4eec88000": {
      "model_module": "@jupyter-widgets/base",
      "model_module_version": "1.2.0",
      "model_name": "LayoutModel",
      "state": {
       "_model_module": "@jupyter-widgets/base",
       "_model_module_version": "1.2.0",
       "_model_name": "LayoutModel",
       "_view_count": null,
       "_view_module": "@jupyter-widgets/base",
       "_view_module_version": "1.2.0",
       "_view_name": "LayoutView",
       "align_content": null,
       "align_items": null,
       "align_self": null,
       "border": null,
       "bottom": null,
       "display": null,
       "flex": null,
       "flex_flow": null,
       "grid_area": null,
       "grid_auto_columns": null,
       "grid_auto_flow": null,
       "grid_auto_rows": null,
       "grid_column": null,
       "grid_gap": null,
       "grid_row": null,
       "grid_template_areas": null,
       "grid_template_columns": null,
       "grid_template_rows": null,
       "height": null,
       "justify_content": null,
       "justify_items": null,
       "left": null,
       "margin": null,
       "max_height": null,
       "max_width": null,
       "min_height": null,
       "min_width": null,
       "object_fit": null,
       "object_position": null,
       "order": null,
       "overflow": null,
       "overflow_x": null,
       "overflow_y": null,
       "padding": null,
       "right": null,
       "top": null,
       "visibility": null,
       "width": null
      }
     },
     "f5ad34f4128f4d93b1c3b46983d52968": {
      "model_module": "@jupyter-widgets/controls",
      "model_module_version": "1.5.0",
      "model_name": "HBoxModel",
      "state": {
       "_dom_classes": [],
       "_model_module": "@jupyter-widgets/controls",
       "_model_module_version": "1.5.0",
       "_model_name": "HBoxModel",
       "_view_count": null,
       "_view_module": "@jupyter-widgets/controls",
       "_view_module_version": "1.5.0",
       "_view_name": "HBoxView",
       "box_style": "",
       "children": [
        "IPY_MODEL_d2d41034084642b09fe9d6e4651d8e9b",
        "IPY_MODEL_1cf828b437d041f8bf493c733a064654",
        "IPY_MODEL_276a55a2f9064aef89b3879713676779"
       ],
       "layout": "IPY_MODEL_49e1812bacf94765985e2d5650b49560"
      }
     },
     "f65391db4d4d4825971a1ac0767e0ca3": {
      "model_module": "@jupyter-widgets/controls",
      "model_module_version": "1.5.0",
      "model_name": "FloatProgressModel",
      "state": {
       "_dom_classes": [],
       "_model_module": "@jupyter-widgets/controls",
       "_model_module_version": "1.5.0",
       "_model_name": "FloatProgressModel",
       "_view_count": null,
       "_view_module": "@jupyter-widgets/controls",
       "_view_module_version": "1.5.0",
       "_view_name": "ProgressView",
       "bar_style": "success",
       "description": "",
       "description_tooltip": null,
       "layout": "IPY_MODEL_1365040c3dc34af9a98be13100cd8b76",
       "max": 547.0,
       "min": 0.0,
       "orientation": "horizontal",
       "style": "IPY_MODEL_12216697a49748b681c04e93524819f4",
       "value": 547.0
      }
     },
     "f75cb45d3bcf412faf17d15d3925e901": {
      "model_module": "@jupyter-widgets/base",
      "model_module_version": "1.2.0",
      "model_name": "LayoutModel",
      "state": {
       "_model_module": "@jupyter-widgets/base",
       "_model_module_version": "1.2.0",
       "_model_name": "LayoutModel",
       "_view_count": null,
       "_view_module": "@jupyter-widgets/base",
       "_view_module_version": "1.2.0",
       "_view_name": "LayoutView",
       "align_content": null,
       "align_items": null,
       "align_self": null,
       "border": null,
       "bottom": null,
       "display": null,
       "flex": null,
       "flex_flow": null,
       "grid_area": null,
       "grid_auto_columns": null,
       "grid_auto_flow": null,
       "grid_auto_rows": null,
       "grid_column": null,
       "grid_gap": null,
       "grid_row": null,
       "grid_template_areas": null,
       "grid_template_columns": null,
       "grid_template_rows": null,
       "height": null,
       "justify_content": null,
       "justify_items": null,
       "left": null,
       "margin": null,
       "max_height": null,
       "max_width": null,
       "min_height": null,
       "min_width": null,
       "object_fit": null,
       "object_position": null,
       "order": null,
       "overflow": null,
       "overflow_x": null,
       "overflow_y": null,
       "padding": null,
       "right": null,
       "top": null,
       "visibility": null,
       "width": null
      }
     },
     "f942225c1a4c4c99b413ff05535843f8": {
      "model_module": "@jupyter-widgets/controls",
      "model_module_version": "1.5.0",
      "model_name": "HTMLModel",
      "state": {
       "_dom_classes": [],
       "_model_module": "@jupyter-widgets/controls",
       "_model_module_version": "1.5.0",
       "_model_name": "HTMLModel",
       "_view_count": null,
       "_view_module": "@jupyter-widgets/controls",
       "_view_module_version": "1.5.0",
       "_view_name": "HTMLView",
       "description": "",
       "description_tooltip": null,
       "layout": "IPY_MODEL_37479cc601dc4134a2ce4a5e378d1ef0",
       "placeholder": "​",
       "style": "IPY_MODEL_c1ddfa239ee343e39a3923c52f958400",
       "value": "Downloading (…)rocessor_config.json: 100%"
      }
     }
    },
    "version_major": 2,
    "version_minor": 0
   }
  }
 },
 "nbformat": 4,
 "nbformat_minor": 5
}
